{
 "cells": [
  {
   "cell_type": "markdown",
   "metadata": {},
   "source": [
    "# Question 1\n",
    "## What data type is each of the following?"
   ]
  },
  {
   "cell_type": "markdown",
   "metadata": {},
   "source": [
    "## Answer 1\n",
    "### 5 - Integer data type\n",
    "### 5.0 - Float data type\n",
    "### 5>1 - Boolean data type\n",
    "### '5' - String data type\n",
    "### 5*2 - Integer data type\n",
    "### '5'*2 - String data type\n",
    "### '5'+'2' - String data type\n",
    "### 5/2 - Float data type\n",
    "### 5//2 - Integer data type\n",
    "### [5,2,1] - List data type\n",
    "### 5 in [1,4,6] - Boolean data type (true,false)\n",
    "### math.pi - Float data type "
   ]
  },
  {
   "cell_type": "markdown",
   "metadata": {},
   "source": [
    "# Question 2\n",
    "## Write (and evaluate) Python expressions that answer these questions:\n",
    "### a. How many letters are there in 'Supercalifragilisticexpialidocious'?\n",
    "### b. Does 'Supercalifragilisticexpialidocious' contain 'ice' as a substring? \n",
    "### c. Which of the following words is the longest:\n",
    "### Supercalifragilisticexpialidocious, Honorificabilitudinitatibus, or\n",
    "### Bababadalgharaghtakamminarronnkonn?\n",
    "### d. Which composer comes first in the dictionary: 'Berlioz', 'Borodin', 'Brian',\n",
    "### 'Bartok', 'Bellini', 'Buxtehude', 'Bernstein'. Which one comes last?"
   ]
  },
  {
   "cell_type": "markdown",
   "metadata": {},
   "source": [
    "# Answer 2\n",
    "\n",
    "# a.\n",
    "\n"
   ]
  },
  {
   "cell_type": "code",
   "execution_count": 7,
   "metadata": {},
   "outputs": [
    {
     "data": {
      "text/plain": [
       "34"
      ]
     },
     "execution_count": 7,
     "metadata": {},
     "output_type": "execute_result"
    }
   ],
   "source": [
    "len('Supercalifragilisticexpialidocious')"
   ]
  },
  {
   "cell_type": "markdown",
   "metadata": {},
   "source": [
    "# b."
   ]
  },
  {
   "cell_type": "code",
   "execution_count": 2,
   "metadata": {},
   "outputs": [
    {
     "name": "stdout",
     "output_type": "stream",
     "text": [
      "True\n"
     ]
    }
   ],
   "source": [
    "string= ('Supercalifragilisticexpialidocious')\n",
    "print('ice' in string)\n",
    "#if substring ice is present in the string, the output will be true, otherwise it will display false."
   ]
  },
  {
   "cell_type": "markdown",
   "metadata": {},
   "source": [
    "# c.\n"
   ]
  },
  {
   "cell_type": "code",
   "execution_count": 3,
   "metadata": {},
   "outputs": [
    {
     "name": "stdout",
     "output_type": "stream",
     "text": [
      "Supercalifragilisticexpialidocious\n"
     ]
    }
   ],
   "source": [
    "def longestword(wordslist):\n",
    "    longest = wordslist[0] #considering the first word in the list\n",
    "    for i in wordslist:\n",
    "        if len(i) > len(longest): #if condition specified\n",
    "            longest = i\n",
    "    return longest\n",
    "print(longestword([\"Supercalifragilisticexpialidocious\",\"Honorificabilitudinitatibus\",\"Bababadalgharaghtakamminarronnkonn\"]))"
   ]
  },
  {
   "cell_type": "code",
   "execution_count": 9,
   "metadata": {},
   "outputs": [
    {
     "name": "stdout",
     "output_type": "stream",
     "text": [
      "('Bartok', 'Buxtehude')\n"
     ]
    }
   ],
   "source": [
    "def composer(composerlist):    #defining a function\n",
    "    composerlist.sort()   #this will sort the given list in ascending order\n",
    "    return composerlist[0],composerlist[6] # there are 7 words in the list, first representing [0] and last representing [6]\n",
    "print(composer(['Berlioz', 'Borodin', 'Brian','Bartok', 'Bellini', 'Buxtehude', 'Bernstein']))\n",
    "\n",
    "                \n",
    "    "
   ]
  },
  {
   "cell_type": "markdown",
   "metadata": {},
   "source": [
    "# Question 3\n",
    "### a. Write a function inside(x,y,x1,y1,x2,y2) that returns True or False depending on whether the point (x,y) lies in the rectangle with lower left corner (x1,y1) and upper right corner (x2,y2).\n",
    "### >>> inside(1,1,0,0,2,3)\n",
    "### True\n",
    "### >>> inside(-1,-1,0,0,2,3)\n",
    "### False\n",
    "### b. Use function inside() from part a. to write an expression that tests whether the point (1,1) lies in both of the following rectangles: one with lower left corner (0.3, 0.5) and upper right corner (1.1, 0.7) and the other with lower\n",
    "### left corner (0.5, 0.2) and upper right corner (1.1, 2)."
   ]
  },
  {
   "cell_type": "markdown",
   "metadata": {},
   "source": [
    "# Answer 3.\n"
   ]
  },
  {
   "cell_type": "code",
   "execution_count": 28,
   "metadata": {},
   "outputs": [
    {
     "name": "stdout",
     "output_type": "stream",
     "text": [
      "True\n",
      "False\n",
      "False\n",
      "True\n"
     ]
    }
   ],
   "source": [
    "# Part a of question 3\n",
    "\n",
    "def inside(x,y,x1,y1,x2,y2):\n",
    "    res = False\n",
    "    if x>=x1 and y>=y1 and x<=x2 and y<=y2:\n",
    "        return True\n",
    "    return res                # it will display false if the above condition is not true\n",
    "\n",
    "first = inside(1,1,0,0,2,3)\n",
    "print(first)\n",
    "\n",
    "second = inside(-1,-1,0,0,2,3)\n",
    "print(second)\n",
    "\n",
    "# Part b of question 3\n",
    "\n",
    "\n",
    "\n",
    "point1 = inside(1,1,0.3,0.5,1.1,0.7)       #values of x,y,x1,y1,x2,y2 respectively\n",
    "print(point1)\n",
    "point2 = inside(1,1,0.5,0.2,1.1,2)\n",
    "print(point2)"
   ]
  },
  {
   "cell_type": "markdown",
   "metadata": {},
   "source": [
    "# Question 4\n",
    "### You can turn a word into pig-Latin using the following two rules (simplified):\n",
    "### • If the word starts with a consonant, move that letter to the end and append 'ay'. For example, 'happy' becomes 'appyhay' and 'pencil' becomes 'encilpay'.\n",
    "### • If the word starts with a vowel, simply append 'way' to the end of the word. For example, 'enter' becomes 'enterway' and 'other' becomes 'otherway' . For our purposes, there are 5 vowels: a, e, i, o, u (so we count y as a consonant).  Write a function pig() that takes a word (i.e., a string) as input and returns its pigLatin form. Your function should still work if the input word contains upper case characters. Your output should always be lower case however.\n",
    "### >>> pig('happy')\n",
    "### 'appyhay'"
   ]
  },
  {
   "cell_type": "code",
   "execution_count": 46,
   "metadata": {},
   "outputs": [
    {
     "name": "stdout",
     "output_type": "stream",
     "text": [
      "appyhay\n"
     ]
    }
   ],
   "source": [
    "def pig(vowel):\n",
    "    if vowel[0] in['a','e','i','o','u']:\n",
    "        vowel = vowel + \"way\"\n",
    "        return vowel\n",
    "    \n",
    "    else:\n",
    "        consonant = vowel[1:] + vowel[0] + \"ay\"\n",
    "        return consonant.lower()             # lower() function will generate the output in lowercase.\n",
    "    \n",
    "print(pig(\"Happy\"))\n"
   ]
  },
  {
   "cell_type": "markdown",
   "metadata": {},
   "source": [
    "# Question 5\n",
    "### File bloodtype1.txt records blood-types of patients (A, B, AB, O or OO) at a clinic.\n",
    "### Write a function bldcount() that reads the file with name name and reports (i.e.,\n",
    "### prints) how many patients there are in each bloodtype.\n",
    "### >>> bldcount('bloodtype.txt')\n",
    "### There are 10 patients of blood type A.\n",
    "### There is one patient of blood type B.\n",
    "### There are 10 patients of blood type AB.\n",
    "### There are 12 patients of blood type O.\n",
    "### There are no patients of blood type OO."
   ]
  },
  {
   "cell_type": "code",
   "execution_count": 60,
   "metadata": {},
   "outputs": [
    {
     "name": "stdout",
     "output_type": "stream",
     "text": [
      "There are 15 patients of blood type A\n",
      "There are 1 patients of blood type B\n",
      "There are 13 patients of blood type AB\n",
      "There are 15 patients of blood type O\n",
      "There are 0 patients of blood type OO\n"
     ]
    }
   ],
   "source": [
    "def bldcount(name):\n",
    "    f = open(name,\"r\")\n",
    "    for line in f:\n",
    "        blood = line.split(' ')           #the in-built split function splits a string into a list.\n",
    "    bloodgrp = ['A','B','AB','O','OO']\n",
    "    for i in bloodgrp:\n",
    "        print(\"There are\", blood.count(i), \"patients of blood type\", i)\n",
    "bldcount(\"bloodgroup.txt\")\n"
   ]
  },
  {
   "cell_type": "markdown",
   "metadata": {},
   "source": [
    "# Question 6\n",
    "### Write a function curconv() that takes as input:\n",
    "### 1. a currency represented using a string (e.g., 'JPY' for the Japanese Yen or\n",
    "### 'EUR' for the Euro)\n",
    "### 2. an amount\n",
    "### and then converts and returns the amount in US dollars.\n"
   ]
  },
  {
   "cell_type": "code",
   "execution_count": 65,
   "metadata": {},
   "outputs": [
    {
     "name": "stdout",
     "output_type": "stream",
     "text": [
      "1.241401\n",
      "122.96544\n"
     ]
    }
   ],
   "source": [
    "def curconv(currency,amount):\n",
    "    f = open(r\"currencies.txt\",\"r\")     # \"r\" function enables us to read the file\n",
    "    for line in f:\n",
    "        if currency == line.split(\" \")[0]:\n",
    "            return amount * float(line.split(\" \")[1])\n",
    "print(curconv('JPY',100))\n",
    "print(curconv('EUR',100))\n"
   ]
  },
  {
   "cell_type": "markdown",
   "metadata": {},
   "source": [
    "# Question 7\n",
    "\n",
    "\n",
    "### Each of the following will cause an exception (an error). Identify what type of\n",
    "### exception each will cause.\n",
    "### a) Trying to add incompatible variables, as in adding 6 + ‘a’\n",
    "## Answer a) Type error \n",
    "### b) Referring to the 12th item of a list that has only 10 items\n",
    "## Answer b) Index error\n",
    "### c) Using a value that is out of range for a function’s input, such as calling math.sqrt(-1.0)\n",
    "## Answer c) Value error\n",
    "### d) Using an undeclared variable, such as print(x) when x has not been defined \n",
    "## Answer d) Name error\n",
    "### e) Trying to open a file that does not exist, such as mistyping the file name or looking in the wrong directory. \n",
    "## Answer e)  FileNotFound error"
   ]
  },
  {
   "cell_type": "markdown",
   "metadata": {},
   "source": [
    "# Question 8.\n",
    "###  Write a function called frequencies() that takes a string as its only parameter, and returns a list of integers, showing the number of times each character appears in the text. Your function may ignore any characters that are not in letters. "
   ]
  },
  {
   "cell_type": "code",
   "execution_count": 70,
   "metadata": {},
   "outputs": [
    {
     "name": "stdout",
     "output_type": "stream",
     "text": [
      "the quick red foxgot bored and went home\n",
      "[1, 1, 1, 3, 5, 1, 1, 2, 1, 0, 1, 0, 1, 2, 4, 0, 1, 2, 0, 3, 1, 0, 1, 1, 0, 0]\n"
     ]
    }
   ],
   "source": [
    "def frequencies(str):\n",
    "    t=[]             # empty list\n",
    "    \n",
    "    \n",
    "    str=str.lower()\n",
    "    \n",
    "        \n",
    "    print(str)\n",
    "    \n",
    "    for i in range(26):\n",
    "        t.append(0)               #append function used to add items in the list\n",
    "   \n",
    "    for i in str:\n",
    "        if i.isspace()==False & (ord(i) >= 97 & ord(i) <= 122):       #ord converts characters into integers \n",
    "            t[ord(i)-97]=t[ord(i)-97]+1\n",
    "    \n",
    "    print(t)\n",
    "    \n",
    "frequencies(\"The quick red foxgot bored and went home\")"
   ]
  },
  {
   "cell_type": "markdown",
   "metadata": {},
   "source": [
    " # Question 9. \n",
    " ### Write a function sieve() that takes as input a positive integer n, implements the above algorithm, and returns a list of all prime numbers up to n.\n",
    " "
   ]
  },
  {
   "cell_type": "code",
   "execution_count": 68,
   "metadata": {},
   "outputs": [
    {
     "name": "stdout",
     "output_type": "stream",
     "text": [
      "[2, 3, 5, 7, 11, 13, 17, 19, 23, 29, 31, 37, 41, 43, 47, 53, 59, 61, 67, 71, 73, 79, 83, 89, 97, 101, 103, 107, 109, 113, 127, 131, 137, 139, 149, 151, 157, 163, 167, 173, 179, 181, 191, 193, 197, 199, 211, 223, 227, 229, 233, 239, 241, 251, 257, 263, 269, 271, 277, 281, 283, 293, 307, 311, 313, 317, 331, 337, 347, 349, 353, 359, 367]\n"
     ]
    }
   ],
   "source": [
    "def sieve(n): \n",
    "      \n",
    "    r=[]                                     #empty list\n",
    "    prime = [True for i in range(n + 1)] \n",
    "    p = 2\n",
    "    while (p * p <= n): \n",
    "          \n",
    "        \n",
    "        if (prime[p] == True): \n",
    "              \n",
    "           \n",
    "            for i in range(p * 2, n + 1, p): \n",
    "                prime[i] = False\n",
    "        p += 1\n",
    "    prime[0]= False\n",
    "    prime[1]= False\n",
    " \n",
    "    for p in range(n + 1): \n",
    "        if prime[p]: \n",
    "            r.append(p) \n",
    "    \n",
    "    print(r)\n",
    "\n",
    "sieve(368)"
   ]
  },
  {
   "cell_type": "markdown",
   "metadata": {},
   "source": [
    "# Question 10\n",
    "### Implement function triangleArea(a,b,c) that takes as input the lengths of the 3 sides of a triangle and returns the area of the triangle. By Heron's formula, the area of a triangle with side lengths a, b, and c is s(s - a)(s -b)(s -c), where s = (a+b+c)/2. \n",
    "### >>> triangleArea(2,2,2)\n",
    "### 1.7320508075688772"
   ]
  },
  {
   "cell_type": "code",
   "execution_count": 69,
   "metadata": {},
   "outputs": [
    {
     "name": "stdout",
     "output_type": "stream",
     "text": [
      "1.7320508075688772\n"
     ]
    }
   ],
   "source": [
    "import math                                      # invoking math module\n",
    "def triangleArea(a,b,c):\n",
    "    s = (a+b+c)/2\n",
    "    res = math.sqrt(s*(s-a)*(s-b)*(s-c))         # Heron's formula to calculate area of a triangle.\n",
    "    return res\n",
    "r = triangleArea(2,2,2)                          # Taking values of sides a,b,c \n",
    "print(r)"
   ]
  },
  {
   "cell_type": "code",
   "execution_count": null,
   "metadata": {},
   "outputs": [],
   "source": []
  }
 ],
 "metadata": {
  "kernelspec": {
   "display_name": "Python 3",
   "language": "python",
   "name": "python3"
  },
  "language_info": {
   "codemirror_mode": {
    "name": "ipython",
    "version": 3
   },
   "file_extension": ".py",
   "mimetype": "text/x-python",
   "name": "python",
   "nbconvert_exporter": "python",
   "pygments_lexer": "ipython3",
   "version": "3.7.6"
  }
 },
 "nbformat": 4,
 "nbformat_minor": 4
}
